{
 "cells": [
  {
   "cell_type": "code",
   "execution_count": 1,
   "id": "ed640f04",
   "metadata": {},
   "outputs": [
    {
     "name": "stdout",
     "output_type": "stream",
     "text": [
      "Requirement already satisfied: PyPDF2 in c:\\users\\jhene\\anaconda3\\lib\\site-packages (3.0.1)\n",
      "Requirement already satisfied: PyPDF2 in c:\\users\\jhene\\anaconda3\\lib\\site-packages (3.0.1)\n",
      "Requirement already satisfied: pytesseract in c:\\users\\jhene\\anaconda3\\lib\\site-packages (0.3.13)\n",
      "Requirement already satisfied: Pillow in c:\\users\\jhene\\anaconda3\\lib\\site-packages (9.4.0)\n",
      "Requirement already satisfied: pdf2image in c:\\users\\jhene\\anaconda3\\lib\\site-packages (1.17.0)\n",
      "Requirement already satisfied: packaging>=21.3 in c:\\users\\jhene\\anaconda3\\lib\\site-packages (from pytesseract) (23.0)\n",
      "Requirement already satisfied: pytesseract in c:\\users\\jhene\\anaconda3\\lib\\site-packages (0.3.13)\n",
      "Requirement already satisfied: packaging>=21.3 in c:\\users\\jhene\\anaconda3\\lib\\site-packages (from pytesseract) (23.0)\n",
      "Requirement already satisfied: Pillow>=8.0.0 in c:\\users\\jhene\\anaconda3\\lib\\site-packages (from pytesseract) (9.4.0)\n",
      "Requirement already satisfied: PyMuPDF in c:\\users\\jhene\\anaconda3\\lib\\site-packages (1.24.10)\n",
      "Requirement already satisfied: pytesseract in c:\\users\\jhene\\anaconda3\\lib\\site-packages (0.3.13)\n",
      "Requirement already satisfied: pillow in c:\\users\\jhene\\anaconda3\\lib\\site-packages (9.4.0)\n",
      "Requirement already satisfied: PyMuPDFb==1.24.10 in c:\\users\\jhene\\anaconda3\\lib\\site-packages (from PyMuPDF) (1.24.10)\n",
      "Requirement already satisfied: packaging>=21.3 in c:\\users\\jhene\\anaconda3\\lib\\site-packages (from pytesseract) (23.0)\n"
     ]
    }
   ],
   "source": [
    "!pip install PyPDF2\n",
    "!pip install PyPDF2 pytesseract Pillow pdf2image\n",
    "!pip install pytesseract\n",
    "!pip install PyMuPDF pytesseract pillow\n"
   ]
  },
  {
   "cell_type": "code",
   "execution_count": 4,
   "id": "26e5878b",
   "metadata": {},
   "outputs": [
    {
     "name": "stdout",
     "output_type": "stream",
     "text": [
      "Informações salvas em: C:\\Users\\jhene\\Downloads\\PDF_EXTRATOR\\Desktop\\INFORMAÇÕES.xlsx\n"
     ]
    }
   ],
   "source": [
    "import os\n",
    "import pandas as pd\n",
    "from PyPDF2 import PdfReader\n",
    "import fitz  # PyMuPDF\n",
    "import pytesseract\n",
    "from PIL import Image\n",
    "import io\n",
    "import pytesseract\n",
    "pytesseract.pytesseract.tesseract_cmd = r'C:\\Program Files\\Tesseract-OCR\\tesseract.exe'\n",
    "\n",
    "\n",
    "\n",
    "# Configurações\n",
    "pasta = \"------CAMINHO DA PASTA--------\"\n",
    "nome_arquivo = \"PDF_TESTE.pdf\"\n",
    "caminho_arquivo = os.path.join(pasta, nome_arquivo)\n",
    "\n",
    "# Lista para armazenar o texto extraído\n",
    "texto_extraido = []\n",
    "\n",
    "def extrair_texto_pdf(pdf_path):\n",
    "    # Tenta extrair texto usando PyPDF2\n",
    "    with open(pdf_path, 'rb') as pdf_file:\n",
    "        pdf_reader = PdfReader(pdf_file)\n",
    "        num_pages = len(pdf_reader.pages)\n",
    "\n",
    "        for page_num in range(num_pages):\n",
    "            page = pdf_reader.pages[page_num]\n",
    "            text = page.extract_text()\n",
    "            if text:  # Se texto for encontrado, adiciona à lista\n",
    "                texto_extraido.append(text)\n",
    "            else:  # Se não houver texto, tenta usar OCR\n",
    "                texto_extraido.append(extrair_texto_imagens(pdf_path, page_num))\n",
    "\n",
    "def extrair_texto_imagens(pdf_path, page_num):\n",
    "    # Abre o PDF e extrai imagens usando PyMuPDF\n",
    "    pdf_document = fitz.open(pdf_path)\n",
    "    page = pdf_document[page_num]\n",
    "    imagens_texto = \"\"\n",
    "\n",
    "    # Extrai as imagens da página\n",
    "    imagens = page.get_images(full=True)\n",
    "    \n",
    "    for img_index, img in enumerate(imagens):\n",
    "        img_index = img[0]\n",
    "        base_image = pdf_document.extract_image(img_index)\n",
    "        image_bytes = base_image[\"image\"]\n",
    "\n",
    "        # Converte bytes em imagem PIL\n",
    "        image = Image.open(io.BytesIO(image_bytes))\n",
    "        \n",
    "        # Realiza o OCR na imagem\n",
    "        texto_imagem = pytesseract.image_to_string(image)\n",
    "        imagens_texto += texto_imagem + \"\\n\"\n",
    "\n",
    "    pdf_document.close()\n",
    "    return imagens_texto.strip()  # Remove espaços em branco\n",
    "\n",
    "# Extraindo texto do PDF\n",
    "extrair_texto_pdf(caminho_arquivo)\n",
    "\n",
    "# Cria um DataFrame a partir da lista de textos\n",
    "df = pd.DataFrame({'Texto': texto_extraido})\n",
    "\n",
    "# Define o caminho do diretório para salvar o arquivo Excel\n",
    "desktop_path = os.path.join(pasta, \"Desktop\")\n",
    "os.makedirs(desktop_path, exist_ok=True)\n",
    "\n",
    "# Define o caminho do arquivo Excel\n",
    "caminho_excel = os.path.join(desktop_path, \"INFORMAÇÕES.xlsx\")\n",
    "\n",
    "# Salva o DataFrame em um arquivo Excel\n",
    "df.to_excel(caminho_excel, sheet_name='INFORMAÇÕES', index=False)\n",
    "print(f\"Informações salvas em: {caminho_excel}\")"
   ]
  },
  {
   "cell_type": "code",
   "execution_count": null,
   "id": "5d29d5e4",
   "metadata": {},
   "outputs": [],
   "source": []
  }
 ],
 "metadata": {
  "kernelspec": {
   "display_name": "Python 3 (ipykernel)",
   "language": "python",
   "name": "python3"
  },
  "language_info": {
   "codemirror_mode": {
    "name": "ipython",
    "version": 3
   },
   "file_extension": ".py",
   "mimetype": "text/x-python",
   "name": "python",
   "nbconvert_exporter": "python",
   "pygments_lexer": "ipython3",
   "version": "3.11.3"
  }
 },
 "nbformat": 4,
 "nbformat_minor": 5
}
